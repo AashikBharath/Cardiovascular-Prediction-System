{
 "cells": [
  {
   "cell_type": "markdown",
   "metadata": {},
   "source": [
    "<font size=\"3\"><font color = \"blue\"><strong>NAME: AASHIK BHARATH EGNYA VARAHAN</strong></font><br>\n",
    "<font size=\"3\"><font color = \"blue\"><strong>STUDENT NO.: R00182866</strong></font>"
   ]
  },
  {
   "cell_type": "markdown",
   "metadata": {},
   "source": [
    "<font size=\"6\"><strong><center>APPLIED MACHINE LEARNING<center></strong></font>"
   ]
  },
  {
   "cell_type": "markdown",
   "metadata": {},
   "source": [
    "<font size=\"5\"><strong><center><i>PROJECT-2</i><center></strong></font>"
   ]
  },
  {
   "cell_type": "markdown",
   "metadata": {},
   "source": [
    "<font size=\"3\"><font color = \"red\"><strong><center>IMPROVING CARDIOVASCULAR DISEASE RISK PREDICTION USING CLASSIFIERS AND ENSEMBLE TECHNIQUES<center></strong></font>"
   ]
  },
  {
   "cell_type": "markdown",
   "metadata": {},
   "source": [
    "<b>INTRODUCTION:</b><br>\n",
    "\n",
    "In this project, one of the most prominent disease around the world, <b>Cardiovascular Disease</b> will be predicted based on the demographic information, blood sample reports and other medical reports."
   ]
  },
  {
   "cell_type": "markdown",
   "metadata": {},
   "source": [
    "<b>DATASET:</b>\n",
    "\n",
    "The dataset was obtained from Cleveland Clinic Foundation in Switzerland where observations collected from different set of people were recorded. This dataset is a part of the database which contains 14 features and 303 observations."
   ]
  },
  {
   "cell_type": "markdown",
   "metadata": {},
   "source": [
    "<b>Python Imports</b>"
   ]
  },
  {
   "cell_type": "code",
   "execution_count": 33,
   "metadata": {},
   "outputs": [],
   "source": [
    "import numpy as np\n",
    "import pandas as pd\n",
    "\n",
    "# For visualizations\n",
    "import matplotlib.pyplot as plt\n",
    "from matplotlib import rcParams\n",
    "from matplotlib.cm import rainbow\n",
    "%matplotlib inline\n",
    "import seaborn as sns\n",
    "\n",
    "# For Data Splitting\n",
    "from sklearn.model_selection import train_test_split\n",
    "# For Data Scaling\n",
    "from sklearn.preprocessing import StandardScaler, MinMaxScaler\n",
    "\n",
    "# For Feature Selection\n",
    "from sklearn.feature_selection import SelectKBest\n",
    "from sklearn.feature_selection import f_classif\n",
    "from sklearn.feature_selection import RFE\n",
    "from sklearn.ensemble import ExtraTreesClassifier\n",
    "\n",
    "# Machine Learning algorithms\n",
    "from sklearn.linear_model import LogisticRegression\n",
    "from sklearn.naive_bayes import GaussianNB\n",
    "from sklearn.neighbors import KNeighborsClassifier\n",
    "from sklearn.ensemble import RandomForestClassifier\n",
    "\n",
    "# Accuracy Score Metrics\n",
    "from sklearn.metrics import accuracy_score\n",
    "\n",
    "import warnings\n",
    "warnings.filterwarnings('ignore')"
   ]
  },
  {
   "cell_type": "markdown",
   "metadata": {},
   "source": [
    "<b>GLIMPSE OF THE DATASET:</b>"
   ]
  },
  {
   "cell_type": "code",
   "execution_count": 34,
   "metadata": {},
   "outputs": [
    {
     "name": "stdout",
     "output_type": "stream",
     "text": [
      "<class 'pandas.core.frame.DataFrame'>\n",
      "RangeIndex: 303 entries, 0 to 302\n",
      "Data columns (total 14 columns):\n",
      " #   Column    Non-Null Count  Dtype  \n",
      "---  ------    --------------  -----  \n",
      " 0   age       303 non-null    int64  \n",
      " 1   sex       303 non-null    int64  \n",
      " 2   cp        303 non-null    int64  \n",
      " 3   trestbps  303 non-null    int64  \n",
      " 4   chol      303 non-null    int64  \n",
      " 5   fbs       303 non-null    int64  \n",
      " 6   restecg   303 non-null    int64  \n",
      " 7   thalach   303 non-null    int64  \n",
      " 8   exang     303 non-null    int64  \n",
      " 9   oldpeak   303 non-null    float64\n",
      " 10  slope     303 non-null    int64  \n",
      " 11  ca        303 non-null    int64  \n",
      " 12  thal      303 non-null    int64  \n",
      " 13  target    303 non-null    int64  \n",
      "dtypes: float64(1), int64(13)\n",
      "memory usage: 33.3 KB\n"
     ]
    }
   ],
   "source": [
    "# Importing Dataset\n",
    "heart_dataset = pd.read_csv(\"heart.csv\")\n",
    "\n",
    "heart_dataset.info()"
   ]
  },
  {
   "cell_type": "markdown",
   "metadata": {},
   "source": [
    "From the above, we can observe that there are no Missing Values in this dataset and all the categorical variables are mutated already as numbers depending on the range of category.\n",
    "\n",
    "Let us now look at the descriptive statistics of the dataset:"
   ]
  },
  {
   "cell_type": "code",
   "execution_count": 35,
   "metadata": {},
   "outputs": [
    {
     "data": {
      "text/html": [
       "<div>\n",
       "<style scoped>\n",
       "    .dataframe tbody tr th:only-of-type {\n",
       "        vertical-align: middle;\n",
       "    }\n",
       "\n",
       "    .dataframe tbody tr th {\n",
       "        vertical-align: top;\n",
       "    }\n",
       "\n",
       "    .dataframe thead th {\n",
       "        text-align: right;\n",
       "    }\n",
       "</style>\n",
       "<table border=\"1\" class=\"dataframe\">\n",
       "  <thead>\n",
       "    <tr style=\"text-align: right;\">\n",
       "      <th></th>\n",
       "      <th>age</th>\n",
       "      <th>sex</th>\n",
       "      <th>cp</th>\n",
       "      <th>trestbps</th>\n",
       "      <th>chol</th>\n",
       "      <th>fbs</th>\n",
       "      <th>restecg</th>\n",
       "      <th>thalach</th>\n",
       "      <th>exang</th>\n",
       "      <th>oldpeak</th>\n",
       "      <th>slope</th>\n",
       "      <th>ca</th>\n",
       "      <th>thal</th>\n",
       "      <th>target</th>\n",
       "    </tr>\n",
       "  </thead>\n",
       "  <tbody>\n",
       "    <tr>\n",
       "      <th>count</th>\n",
       "      <td>303.000000</td>\n",
       "      <td>303.000000</td>\n",
       "      <td>303.000000</td>\n",
       "      <td>303.000000</td>\n",
       "      <td>303.000000</td>\n",
       "      <td>303.000000</td>\n",
       "      <td>303.000000</td>\n",
       "      <td>303.000000</td>\n",
       "      <td>303.000000</td>\n",
       "      <td>303.000000</td>\n",
       "      <td>303.000000</td>\n",
       "      <td>303.000000</td>\n",
       "      <td>303.000000</td>\n",
       "      <td>303.000000</td>\n",
       "    </tr>\n",
       "    <tr>\n",
       "      <th>mean</th>\n",
       "      <td>54.366337</td>\n",
       "      <td>0.683168</td>\n",
       "      <td>0.966997</td>\n",
       "      <td>131.623762</td>\n",
       "      <td>246.264026</td>\n",
       "      <td>0.148515</td>\n",
       "      <td>0.528053</td>\n",
       "      <td>149.646865</td>\n",
       "      <td>0.326733</td>\n",
       "      <td>1.039604</td>\n",
       "      <td>1.399340</td>\n",
       "      <td>0.729373</td>\n",
       "      <td>2.313531</td>\n",
       "      <td>0.544554</td>\n",
       "    </tr>\n",
       "    <tr>\n",
       "      <th>std</th>\n",
       "      <td>9.082101</td>\n",
       "      <td>0.466011</td>\n",
       "      <td>1.032052</td>\n",
       "      <td>17.538143</td>\n",
       "      <td>51.830751</td>\n",
       "      <td>0.356198</td>\n",
       "      <td>0.525860</td>\n",
       "      <td>22.905161</td>\n",
       "      <td>0.469794</td>\n",
       "      <td>1.161075</td>\n",
       "      <td>0.616226</td>\n",
       "      <td>1.022606</td>\n",
       "      <td>0.612277</td>\n",
       "      <td>0.498835</td>\n",
       "    </tr>\n",
       "    <tr>\n",
       "      <th>min</th>\n",
       "      <td>29.000000</td>\n",
       "      <td>0.000000</td>\n",
       "      <td>0.000000</td>\n",
       "      <td>94.000000</td>\n",
       "      <td>126.000000</td>\n",
       "      <td>0.000000</td>\n",
       "      <td>0.000000</td>\n",
       "      <td>71.000000</td>\n",
       "      <td>0.000000</td>\n",
       "      <td>0.000000</td>\n",
       "      <td>0.000000</td>\n",
       "      <td>0.000000</td>\n",
       "      <td>0.000000</td>\n",
       "      <td>0.000000</td>\n",
       "    </tr>\n",
       "    <tr>\n",
       "      <th>25%</th>\n",
       "      <td>47.500000</td>\n",
       "      <td>0.000000</td>\n",
       "      <td>0.000000</td>\n",
       "      <td>120.000000</td>\n",
       "      <td>211.000000</td>\n",
       "      <td>0.000000</td>\n",
       "      <td>0.000000</td>\n",
       "      <td>133.500000</td>\n",
       "      <td>0.000000</td>\n",
       "      <td>0.000000</td>\n",
       "      <td>1.000000</td>\n",
       "      <td>0.000000</td>\n",
       "      <td>2.000000</td>\n",
       "      <td>0.000000</td>\n",
       "    </tr>\n",
       "    <tr>\n",
       "      <th>50%</th>\n",
       "      <td>55.000000</td>\n",
       "      <td>1.000000</td>\n",
       "      <td>1.000000</td>\n",
       "      <td>130.000000</td>\n",
       "      <td>240.000000</td>\n",
       "      <td>0.000000</td>\n",
       "      <td>1.000000</td>\n",
       "      <td>153.000000</td>\n",
       "      <td>0.000000</td>\n",
       "      <td>0.800000</td>\n",
       "      <td>1.000000</td>\n",
       "      <td>0.000000</td>\n",
       "      <td>2.000000</td>\n",
       "      <td>1.000000</td>\n",
       "    </tr>\n",
       "    <tr>\n",
       "      <th>75%</th>\n",
       "      <td>61.000000</td>\n",
       "      <td>1.000000</td>\n",
       "      <td>2.000000</td>\n",
       "      <td>140.000000</td>\n",
       "      <td>274.500000</td>\n",
       "      <td>0.000000</td>\n",
       "      <td>1.000000</td>\n",
       "      <td>166.000000</td>\n",
       "      <td>1.000000</td>\n",
       "      <td>1.600000</td>\n",
       "      <td>2.000000</td>\n",
       "      <td>1.000000</td>\n",
       "      <td>3.000000</td>\n",
       "      <td>1.000000</td>\n",
       "    </tr>\n",
       "    <tr>\n",
       "      <th>max</th>\n",
       "      <td>77.000000</td>\n",
       "      <td>1.000000</td>\n",
       "      <td>3.000000</td>\n",
       "      <td>200.000000</td>\n",
       "      <td>564.000000</td>\n",
       "      <td>1.000000</td>\n",
       "      <td>2.000000</td>\n",
       "      <td>202.000000</td>\n",
       "      <td>1.000000</td>\n",
       "      <td>6.200000</td>\n",
       "      <td>2.000000</td>\n",
       "      <td>4.000000</td>\n",
       "      <td>3.000000</td>\n",
       "      <td>1.000000</td>\n",
       "    </tr>\n",
       "  </tbody>\n",
       "</table>\n",
       "</div>"
      ],
      "text/plain": [
       "              age         sex          cp    trestbps        chol         fbs  \\\n",
       "count  303.000000  303.000000  303.000000  303.000000  303.000000  303.000000   \n",
       "mean    54.366337    0.683168    0.966997  131.623762  246.264026    0.148515   \n",
       "std      9.082101    0.466011    1.032052   17.538143   51.830751    0.356198   \n",
       "min     29.000000    0.000000    0.000000   94.000000  126.000000    0.000000   \n",
       "25%     47.500000    0.000000    0.000000  120.000000  211.000000    0.000000   \n",
       "50%     55.000000    1.000000    1.000000  130.000000  240.000000    0.000000   \n",
       "75%     61.000000    1.000000    2.000000  140.000000  274.500000    0.000000   \n",
       "max     77.000000    1.000000    3.000000  200.000000  564.000000    1.000000   \n",
       "\n",
       "          restecg     thalach       exang     oldpeak       slope          ca  \\\n",
       "count  303.000000  303.000000  303.000000  303.000000  303.000000  303.000000   \n",
       "mean     0.528053  149.646865    0.326733    1.039604    1.399340    0.729373   \n",
       "std      0.525860   22.905161    0.469794    1.161075    0.616226    1.022606   \n",
       "min      0.000000   71.000000    0.000000    0.000000    0.000000    0.000000   \n",
       "25%      0.000000  133.500000    0.000000    0.000000    1.000000    0.000000   \n",
       "50%      1.000000  153.000000    0.000000    0.800000    1.000000    0.000000   \n",
       "75%      1.000000  166.000000    1.000000    1.600000    2.000000    1.000000   \n",
       "max      2.000000  202.000000    1.000000    6.200000    2.000000    4.000000   \n",
       "\n",
       "             thal      target  \n",
       "count  303.000000  303.000000  \n",
       "mean     2.313531    0.544554  \n",
       "std      0.612277    0.498835  \n",
       "min      0.000000    0.000000  \n",
       "25%      2.000000    0.000000  \n",
       "50%      2.000000    1.000000  \n",
       "75%      3.000000    1.000000  \n",
       "max      3.000000    1.000000  "
      ]
     },
     "execution_count": 35,
     "metadata": {},
     "output_type": "execute_result"
    }
   ],
   "source": [
    "heart_dataset.describe()"
   ]
  },
  {
   "cell_type": "markdown",
   "metadata": {},
   "source": [
    "We can see that the scale of each feature column is different and varied."
   ]
  },
  {
   "cell_type": "markdown",
   "metadata": {},
   "source": [
    "<b>FEATURE DESCRIPTION:</b>\n",
    "\n",
    "The description of each feature in the dataset is given below:"
   ]
  },
  {
   "cell_type": "markdown",
   "metadata": {},
   "source": [
    "![](Dataset_Description.jpg)"
   ]
  },
  {
   "cell_type": "markdown",
   "metadata": {},
   "source": [
    "<b>Types of Features:</b>\n",
    "    \n",
    "<li><b>Categorical features </b> (Has two or more categories and each value in that feature can be categorised by them): sex, chest_pain\n",
    "\n",
    "<b>Ordinal features</b> (Variable having relative ordering or sorting between the values): fasting_blood_sugar, electrocardiographic, induced_angina, slope, no_of_vessels, thal, diagnosis\n",
    "\n",
    "<li><b>Continuous features</b> (Variable taking values between any two points or between the minimum or maximum values in the feature column): age, blood_pressure, serum_cholestoral, max_heart_rate, ST_depression"
   ]
  },
  {
   "cell_type": "code",
   "execution_count": 36,
   "metadata": {},
   "outputs": [
    {
     "data": {
      "image/png": "[encoded data removed]",
      "text/plain": [
       "<Figure size 1440x720 with 16 Axes>"
      ]
     },
     "metadata": {
      "needs_background": "light"
     },
     "output_type": "display_data"
    }
   ],
   "source": [
    "# Histogram of the Heart Dataset\n",
    "\n",
    "fig = plt.figure(figsize = (20,10))\n",
    "heart_dataset.hist(ax = fig.gca());"
   ]
  },
  {
   "cell_type": "markdown",
   "metadata": {},
   "source": [
    "From the above histogram plots, we can see that the features are skewed and not normally distributed. Also, the scales are different between one and another.\n",
    "\n",
    "<b><font size=\"3\">Understanding the Data</font></b>"
   ]
  },
  {
   "cell_type": "markdown",
   "metadata": {},
   "source": [
    "Let us observe the creelation between different features with help of a heat mat"
   ]
  },
  {
   "cell_type": "code",
   "execution_count": 37,
   "metadata": {},
   "outputs": [
    {
     "data": {
      "image/png": "[encoded data removed]",
      "text/plain": [
       "<Figure size 1440x1440 with 2 Axes>"
      ]
     },
     "metadata": {
      "needs_background": "light"
     },
     "output_type": "display_data"
    }
   ],
   "source": [
    "# creating a correlation heatmap\n",
    "sns.heatmap(heart_dataset.corr(),annot=True, cmap='terrain', linewidths=0.1)\n",
    "fig=plt.gcf()\n",
    "fig.set_size_inches(20,20)\n",
    "plt.show()"
   ]
  },
  {
   "cell_type": "markdown",
   "metadata": {},
   "source": [
    "From the above HeatMap, we can see that cp and thalach are the features with highest positive correlation whereas exang, oldpeak and ca are negatively correlated. While other features do not hold much correlation with the response variable \"target\"."
   ]
  },
  {
   "cell_type": "markdown",
   "metadata": {},
   "source": [
    "<b><font size=\"3\">Data PreProcessing</font></b>\n",
    "\n",
    "We have understood the data and the underlying patterns, importance of each features. Now let us PreProcess the data to achieve the deep insight from each of its features."
   ]
  },
  {
   "cell_type": "markdown",
   "metadata": {},
   "source": [
    "<b>Outlier Detection</b>\n",
    "\n",
    "Since the dataset is not large, we cannot discard the outliers. We will treat the outliers as potential observations."
   ]
  },
  {
   "cell_type": "code",
   "execution_count": 38,
   "metadata": {},
   "outputs": [
    {
     "data": {
      "image/png": "[encoded data removed]",
      "text/plain": [
       "<Figure size 1080x576 with 1 Axes>"
      ]
     },
     "metadata": {
      "needs_background": "light"
     },
     "output_type": "display_data"
    }
   ],
   "source": [
    "# Boxplots\n",
    "fig_dims = (15,8)\n",
    "fig, ax = plt.subplots(figsize=fig_dims)\n",
    "sns.boxplot(data=heart_dataset, ax=ax);"
   ]
  },
  {
   "cell_type": "markdown",
   "metadata": {},
   "source": [
    "From the Whisker Plot, we can interpret that there are outliers in most of the continuous variables. But it is highly unpredictable to find the potential outliers from this data. So, the data needs to be scaled (standardised or normalised) to behave better during Modelling process."
   ]
  },
  {
   "cell_type": "markdown",
   "metadata": {},
   "source": [
    "<b>Dealing with Missing Values</b>\n",
    "\n",
    "We have already explored the dataset for any missing NA values and found none."
   ]
  },
  {
   "cell_type": "code",
   "execution_count": 39,
   "metadata": {},
   "outputs": [
    {
     "data": {
      "text/plain": [
       "age         0\n",
       "sex         0\n",
       "cp          0\n",
       "trestbps    0\n",
       "chol        0\n",
       "fbs         0\n",
       "restecg     0\n",
       "thalach     0\n",
       "exang       0\n",
       "oldpeak     0\n",
       "slope       0\n",
       "ca          0\n",
       "thal        0\n",
       "target      0\n",
       "dtype: int64"
      ]
     },
     "execution_count": 39,
     "metadata": {},
     "output_type": "execute_result"
    }
   ],
   "source": [
    "# NAs present in each feature columns\n",
    "heart_dataset.isnull().sum()"
   ]
  },
  {
   "cell_type": "markdown",
   "metadata": {},
   "source": [
    "<b>Handling Categorical Data</b>"
   ]
  },
  {
   "cell_type": "code",
   "execution_count": 40,
   "metadata": {},
   "outputs": [
    {
     "name": "stdout",
     "output_type": "stream",
     "text": [
      "     age  trestbps  chol  thalach  oldpeak  target  sex_0  sex_1  cp_0  cp_1  \\\n",
      "0     63       145   233      150      2.3       1      0      1     0     0   \n",
      "1     37       130   250      187      3.5       1      0      1     0     0   \n",
      "2     41       130   204      172      1.4       1      1      0     0     1   \n",
      "3     56       120   236      178      0.8       1      0      1     0     1   \n",
      "4     57       120   354      163      0.6       1      1      0     1     0   \n",
      "..   ...       ...   ...      ...      ...     ...    ...    ...   ...   ...   \n",
      "298   57       140   241      123      0.2       0      1      0     1     0   \n",
      "299   45       110   264      132      1.2       0      0      1     0     0   \n",
      "300   68       144   193      141      3.4       0      0      1     1     0   \n",
      "301   57       130   131      115      1.2       0      0      1     1     0   \n",
      "302   57       130   236      174      0.0       0      1      0     0     1   \n",
      "\n",
      "     cp_2  cp_3  fbs_0  fbs_1  restecg_0  restecg_1  restecg_2  exang_0  \\\n",
      "0       0     1      0      1          1          0          0        1   \n",
      "1       1     0      1      0          0          1          0        1   \n",
      "2       0     0      1      0          1          0          0        1   \n",
      "3       0     0      1      0          0          1          0        1   \n",
      "4       0     0      1      0          0          1          0        0   \n",
      "..    ...   ...    ...    ...        ...        ...        ...      ...   \n",
      "298     0     0      1      0          0          1          0        0   \n",
      "299     0     1      1      0          0          1          0        1   \n",
      "300     0     0      0      1          0          1          0        1   \n",
      "301     0     0      1      0          0          1          0        0   \n",
      "302     0     0      1      0          1          0          0        1   \n",
      "\n",
      "     exang_1  slope_0  slope_1  slope_2  ca_0  ca_1  ca_2  ca_3  ca_4  thal_0  \\\n",
      "0          0        1        0        0     1     0     0     0     0       0   \n",
      "1          0        1        0        0     1     0     0     0     0       0   \n",
      "2          0        0        0        1     1     0     0     0     0       0   \n",
      "3          0        0        0        1     1     0     0     0     0       0   \n",
      "4          1        0        0        1     1     0     0     0     0       0   \n",
      "..       ...      ...      ...      ...   ...   ...   ...   ...   ...     ...   \n",
      "298        1        0        1        0     1     0     0     0     0       0   \n",
      "299        0        0        1        0     1     0     0     0     0       0   \n",
      "300        0        0        1        0     0     0     1     0     0       0   \n",
      "301        1        0        1        0     0     1     0     0     0       0   \n",
      "302        0        0        1        0     0     1     0     0     0       0   \n",
      "\n",
      "     thal_1  thal_2  thal_3  \n",
      "0         1       0       0  \n",
      "1         0       1       0  \n",
      "2         0       1       0  \n",
      "3         0       1       0  \n",
      "4         0       1       0  \n",
      "..      ...     ...     ...  \n",
      "298       0       0       1  \n",
      "299       0       0       1  \n",
      "300       0       0       1  \n",
      "301       0       0       1  \n",
      "302       0       1       0  \n",
      "\n",
      "[303 rows x 31 columns]\n"
     ]
    }
   ],
   "source": [
    "#one-hot encoding\n",
    "heart_dataset_one = pd.get_dummies(heart_dataset, columns = ['sex', 'cp', 'fbs', 'restecg', 'exang', 'slope', 'ca', 'thal'])\n",
    "\n",
    "# Displaying the dataset after creating dummy variables\n",
    "pd.set_option('display.max_columns', 35)\n",
    "print(heart_dataset_one)"
   ]
  },
  {
   "cell_type": "markdown",
   "metadata": {},
   "source": [
    "With the help of get.dummies() function, we were able to encode the Categorical Feature with new dummy features for each unique value in the feature column. \n",
    "\n",
    "We can now observe that we have 31 features with the same 303 observations in the new dataset."
   ]
  },
  {
   "cell_type": "markdown",
   "metadata": {},
   "source": [
    "<b>Scaling Data</b>\n",
    "\n",
    "Feature Scaling is an important step in pre-processing for Machine Learning. The majority of ML and optimization algorithms behave better if the features are on the same scale.\n",
    "\n",
    "For this dataset, we will be scaling the data using both Normalization and Standardization."
   ]
  },
  {
   "cell_type": "markdown",
   "metadata": {},
   "source": [
    "<b>Standardized Data</b>"
   ]
  },
  {
   "cell_type": "code",
   "execution_count": 41,
   "metadata": {},
   "outputs": [
    {
     "name": "stdout",
     "output_type": "stream",
     "text": [
      "          age  trestbps      chol   thalach   oldpeak  target  sex_0  sex_1  \\\n",
      "0    0.952197  0.763956 -0.256334  0.015443  1.087338       1      0      1   \n",
      "1   -1.915313 -0.092738  0.072199  1.633471  2.122573       1      0      1   \n",
      "2   -1.474158 -0.092738 -0.816773  0.977514  0.310912       1      1      0   \n",
      "3    0.180175 -0.663867 -0.198357  1.239897 -0.206705       1      0      1   \n",
      "4    0.290464 -0.663867  2.082050  0.583939 -0.379244       1      1      0   \n",
      "..        ...       ...       ...       ...       ...     ...    ...    ...   \n",
      "298  0.290464  0.478391 -0.101730 -1.165281 -0.724323       0      1      0   \n",
      "299 -1.033002 -1.234996  0.342756 -0.771706  0.138373       0      0      1   \n",
      "300  1.503641  0.706843 -1.029353 -0.378132  2.036303       0      0      1   \n",
      "301  0.290464 -0.092738 -2.227533 -1.515125  0.138373       0      0      1   \n",
      "302  0.290464 -0.092738 -0.198357  1.064975 -0.896862       0      1      0   \n",
      "\n",
      "     cp_0  cp_1  cp_2  cp_3  fbs_0  fbs_1  restecg_0  restecg_1  restecg_2  \\\n",
      "0       0     0     0     1      0      1          1          0          0   \n",
      "1       0     0     1     0      1      0          0          1          0   \n",
      "2       0     1     0     0      1      0          1          0          0   \n",
      "3       0     1     0     0      1      0          0          1          0   \n",
      "4       1     0     0     0      1      0          0          1          0   \n",
      "..    ...   ...   ...   ...    ...    ...        ...        ...        ...   \n",
      "298     1     0     0     0      1      0          0          1          0   \n",
      "299     0     0     0     1      1      0          0          1          0   \n",
      "300     1     0     0     0      0      1          0          1          0   \n",
      "301     1     0     0     0      1      0          0          1          0   \n",
      "302     0     1     0     0      1      0          1          0          0   \n",
      "\n",
      "     exang_0  exang_1  slope_0  slope_1  slope_2  ca_0  ca_1  ca_2  ca_3  \\\n",
      "0          1        0        1        0        0     1     0     0     0   \n",
      "1          1        0        1        0        0     1     0     0     0   \n",
      "2          1        0        0        0        1     1     0     0     0   \n",
      "3          1        0        0        0        1     1     0     0     0   \n",
      "4          0        1        0        0        1     1     0     0     0   \n",
      "..       ...      ...      ...      ...      ...   ...   ...   ...   ...   \n",
      "298        0        1        0        1        0     1     0     0     0   \n",
      "299        1        0        0        1        0     1     0     0     0   \n",
      "300        1        0        0        1        0     0     0     1     0   \n",
      "301        0        1        0        1        0     0     1     0     0   \n",
      "302        1        0        0        1        0     0     1     0     0   \n",
      "\n",
      "     ca_4  thal_0  thal_1  thal_2  thal_3  \n",
      "0       0       0       1       0       0  \n",
      "1       0       0       0       1       0  \n",
      "2       0       0       0       1       0  \n",
      "3       0       0       0       1       0  \n",
      "4       0       0       0       1       0  \n",
      "..    ...     ...     ...     ...     ...  \n",
      "298     0       0       0       0       1  \n",
      "299     0       0       0       0       1  \n",
      "300     0       0       0       0       1  \n",
      "301     0       0       0       0       1  \n",
      "302     0       0       0       1       0  \n",
      "\n",
      "[303 rows x 31 columns]\n"
     ]
    }
   ],
   "source": [
    "columns_to_scale = ['age', 'trestbps', 'chol', 'thalach', 'oldpeak']\n",
    "# Standardizing Data\n",
    "standardScaler = StandardScaler()\n",
    "\n",
    "X_standardized = heart_dataset_one\n",
    "\n",
    "X_standardized[columns_to_scale] = standardScaler.fit_transform(heart_dataset_one[columns_to_scale])\n",
    "print(X_standardized)"
   ]
  },
  {
   "cell_type": "markdown",
   "metadata": {},
   "source": [
    "After Standardization of the dataset, the selected features are transformed to a standard Gaussian distribution with a mean of 0 and a standard deviation of 1. <br>\n",
    "\n",
    "This scaling happened independently on each individual selected feature by computing the relevant statistics on the samples in the training set.\n",
    "\n",
    "<b> Normalized Data</b>"
   ]
  },
  {
   "cell_type": "code",
   "execution_count": 42,
   "metadata": {},
   "outputs": [
    {
     "name": "stdout",
     "output_type": "stream",
     "text": [
      "          age  trestbps      chol   thalach   oldpeak  target  sex_0  sex_1  \\\n",
      "0    0.708333  0.481132  0.244292  0.603053  0.370968       1      0      1   \n",
      "1    0.166667  0.339623  0.283105  0.885496  0.564516       1      0      1   \n",
      "2    0.250000  0.339623  0.178082  0.770992  0.225806       1      1      0   \n",
      "3    0.562500  0.245283  0.251142  0.816794  0.129032       1      0      1   \n",
      "4    0.583333  0.245283  0.520548  0.702290  0.096774       1      1      0   \n",
      "..        ...       ...       ...       ...       ...     ...    ...    ...   \n",
      "298  0.583333  0.433962  0.262557  0.396947  0.032258       0      1      0   \n",
      "299  0.333333  0.150943  0.315068  0.465649  0.193548       0      0      1   \n",
      "300  0.812500  0.471698  0.152968  0.534351  0.548387       0      0      1   \n",
      "301  0.583333  0.339623  0.011416  0.335878  0.193548       0      0      1   \n",
      "302  0.583333  0.339623  0.251142  0.786260  0.000000       0      1      0   \n",
      "\n",
      "     cp_0  cp_1  cp_2  cp_3  fbs_0  fbs_1  restecg_0  restecg_1  restecg_2  \\\n",
      "0       0     0     0     1      0      1          1          0          0   \n",
      "1       0     0     1     0      1      0          0          1          0   \n",
      "2       0     1     0     0      1      0          1          0          0   \n",
      "3       0     1     0     0      1      0          0          1          0   \n",
      "4       1     0     0     0      1      0          0          1          0   \n",
      "..    ...   ...   ...   ...    ...    ...        ...        ...        ...   \n",
      "298     1     0     0     0      1      0          0          1          0   \n",
      "299     0     0     0     1      1      0          0          1          0   \n",
      "300     1     0     0     0      0      1          0          1          0   \n",
      "301     1     0     0     0      1      0          0          1          0   \n",
      "302     0     1     0     0      1      0          1          0          0   \n",
      "\n",
      "     exang_0  exang_1  slope_0  slope_1  slope_2  ca_0  ca_1  ca_2  ca_3  \\\n",
      "0          1        0        1        0        0     1     0     0     0   \n",
      "1          1        0        1        0        0     1     0     0     0   \n",
      "2          1        0        0        0        1     1     0     0     0   \n",
      "3          1        0        0        0        1     1     0     0     0   \n",
      "4          0        1        0        0        1     1     0     0     0   \n",
      "..       ...      ...      ...      ...      ...   ...   ...   ...   ...   \n",
      "298        0        1        0        1        0     1     0     0     0   \n",
      "299        1        0        0        1        0     1     0     0     0   \n",
      "300        1        0        0        1        0     0     0     1     0   \n",
      "301        0        1        0        1        0     0     1     0     0   \n",
      "302        1        0        0        1        0     0     1     0     0   \n",
      "\n",
      "     ca_4  thal_0  thal_1  thal_2  thal_3  \n",
      "0       0       0       1       0       0  \n",
      "1       0       0       0       1       0  \n",
      "2       0       0       0       1       0  \n",
      "3       0       0       0       1       0  \n",
      "4       0       0       0       1       0  \n",
      "..    ...     ...     ...     ...     ...  \n",
      "298     0       0       0       0       1  \n",
      "299     0       0       0       0       1  \n",
      "300     0       0       0       0       1  \n",
      "301     0       0       0       0       1  \n",
      "302     0       0       0       1       0  \n",
      "\n",
      "[303 rows x 31 columns]\n"
     ]
    }
   ],
   "source": [
    "# Normalizing Data\n",
    "normalizedScaler = MinMaxScaler()\n",
    "\n",
    "X_normalized = heart_dataset_one\n",
    "\n",
    "X_normalized[columns_to_scale] = normalizedScaler.fit_transform(heart_dataset_one[columns_to_scale])\n",
    "print(X_normalized)"
   ]
  },
  {
   "cell_type": "markdown",
   "metadata": {},
   "source": [
    "After Normalisation of the dataset, the selected features are rescaled into the range between 0 and 1. <br>\n",
    "\n",
    "It improves the performance of algorithms which assigns a weight to features such as linear regression and algorithms that utilize geometric distance such as KNNs. "
   ]
  },
  {
   "cell_type": "markdown",
   "metadata": {},
   "source": [
    "<b>Handling Imbalance</b>\n",
    "\n",
    "Imbalance in a dataset leads to inaccuracy and high precision, recall scores. There are certain resampling techniques such as undersampling and oversampling to handle these issues.\n",
    "\n",
    "Considering our dataset, the response variable target has two outcomes \"Patients with Heart Disease\" and \"Patients without Heart Disease\". Let us now observe their distribution in the dataset."
   ]
  },
  {
   "cell_type": "code",
   "execution_count": 43,
   "metadata": {},
   "outputs": [
    {
     "data": {
      "image/png": "[encoded data removed]",
      "text/plain": [
       "<Figure size 432x288 with 1 Axes>"
      ]
     },
     "metadata": {},
     "output_type": "display_data"
    },
    {
     "name": "stdout",
     "output_type": "stream",
     "text": [
      "Percentage of Patients with Heart problems: 54.46\n",
      "Percentage of Patients without Heart problems: 45.54\n"
     ]
    }
   ],
   "source": [
    "target_1 = float(len(heart_dataset[heart_dataset_one.target == 1])/len(heart_dataset))\n",
    "target_0 = float(len(heart_dataset[heart_dataset_one.target == 0])/len(heart_dataset))\n",
    "\n",
    "pieLabels='Patients without Heart Disease', 'Patients with Heart Disease'\n",
    "TargetDis = [target_0, target_1]\n",
    "figureObject, axesObject = plt.subplots()\n",
    "axesObject.pie(TargetDis,labels=pieLabels,autopct='%1.2f%%',startangle=45)\n",
    "axesObject.axis('equal')\n",
    "plt.title(\"Distribution of Diagnosis Data\")\n",
    "plt.show()\n",
    "\n",
    "print(\"Percentage of Patients with Heart problems: \"+str(round(target_1*100,2)))\n",
    "print(\"Percentage of Patients without Heart problems: \"+str(round(target_0*100,2)))"
   ]
  },
  {
   "cell_type": "markdown",
   "metadata": {},
   "source": [
    "From the above chart, we can conclude even when the distribution is not exactly 50:50, but still the data is good enough to use on machine learning algorithms and to predict standard metrics like Accuracy and AUC scores. So, we do not need to resample this dataset."
   ]
  },
  {
   "cell_type": "markdown",
   "metadata": {},
   "source": [
    "<b>Data Split - Train & Test</b>"
   ]
  },
  {
   "cell_type": "code",
   "execution_count": 44,
   "metadata": {},
   "outputs": [],
   "source": [
    "target = X_standardized.target\n",
    "X_standardized.drop([\"target\"], axis=1, inplace=True)\n",
    "predictors = X_standardized\n",
    "X_train,X_test,Y_train,Y_test = train_test_split(predictors,target,test_size=0.20,random_state=866)"
   ]
  },
  {
   "cell_type": "markdown",
   "metadata": {},
   "source": [
    "Here, the dataset is split as training data and test data in the ratio of 80:20 for further processing and model training."
   ]
  },
  {
   "cell_type": "markdown",
   "metadata": {},
   "source": [
    "<b>Feature Selection</b>"
   ]
  },
  {
   "cell_type": "markdown",
   "metadata": {},
   "source": [
    "<i><li>Univariate Feature Selection</i>"
   ]
  },
  {
   "cell_type": "code",
   "execution_count": 45,
   "metadata": {},
   "outputs": [],
   "source": [
    "## Univariate feature extraction\n",
    "UnivariateFS = SelectKBest(score_func=f_classif, k=5)\n",
    "UnivariateFS.fit(X_train, Y_train)\n",
    "X_train_UFS = UnivariateFS.transform(X_train)\n",
    "X_test_UFS = UnivariateFS.transform(X_test)"
   ]
  },
  {
   "cell_type": "markdown",
   "metadata": {},
   "source": [
    "<i><li>Tree based Feature Selection</i>"
   ]
  },
  {
   "cell_type": "code",
   "execution_count": 46,
   "metadata": {},
   "outputs": [
    {
     "name": "stdout",
     "output_type": "stream",
     "text": [
      "Index(['age', 'trestbps', 'chol', 'thalach', 'oldpeak', 'sex_0', 'sex_1',\n",
      "       'cp_0', 'cp_1', 'cp_2', 'cp_3', 'fbs_0', 'fbs_1', 'restecg_0',\n",
      "       'restecg_1', 'restecg_2', 'exang_0', 'exang_1', 'slope_0', 'slope_1',\n",
      "       'slope_2', 'ca_0', 'ca_1', 'ca_2', 'ca_3', 'ca_4', 'thal_0', 'thal_1',\n",
      "       'thal_2', 'thal_3'],\n",
      "      dtype='object')\n"
     ]
    },
    {
     "data": {
      "text/plain": [
       "array([0.05234302, 0.04282289, 0.05065922, 0.0570821 , 0.05460369,\n",
       "       0.01876643, 0.01937277, 0.11164367, 0.01525008, 0.03125155,\n",
       "       0.00985265, 0.01055609, 0.01107912, 0.02083225, 0.02159372,\n",
       "       0.00118896, 0.03559954, 0.04088626, 0.00596174, 0.03322732,\n",
       "       0.04027339, 0.07864848, 0.02343315, 0.01609288, 0.01027641,\n",
       "       0.0036303 , 0.00079194, 0.00698455, 0.10886858, 0.06642725])"
      ]
     },
     "execution_count": 46,
     "metadata": {},
     "output_type": "execute_result"
    }
   ],
   "source": [
    "### Tree based Feature Selection\n",
    "TreeFS = ExtraTreesClassifier(n_estimators=500, random_state=866)\n",
    "TreeFS.fit(X_train, Y_train)\n",
    "print(X_train.columns)\n",
    "TreeFS.feature_importances_"
   ]
  },
  {
   "cell_type": "markdown",
   "metadata": {},
   "source": [
    "From the above feature importance scores, we can observe that <b>\"thalach\", \"oldpeak\",\"cp\",\"exang\" & \"thal\"</b> have high importance than other features."
   ]
  },
  {
   "cell_type": "markdown",
   "metadata": {},
   "source": [
    "<b>Generalised Model Training Function</b>"
   ]
  },
  {
   "cell_type": "code",
   "execution_count": 47,
   "metadata": {},
   "outputs": [],
   "source": [
    "## To train the model with different classifier algorithms\n",
    "def train_model(X_train, Y_train, X_test, Y_test, classifier, **kwargs):\n",
    "    \n",
    "    # instantiate model\n",
    "    model = classifier(**kwargs)\n",
    "    \n",
    "    # train model\n",
    "    model.fit(X_train,Y_train)\n",
    "    \n",
    "    # check accuracy and print out the results\n",
    "    fit_accuracy = model.score(X_train, Y_train)\n",
    "    test_accuracy = model.score(X_test, Y_test)\n",
    "    \n",
    "    print(f\"Train accuracy: {fit_accuracy:0.2%}\")\n",
    "    print(f\"Test accuracy: {test_accuracy:0.2%}\")\n",
    "    \n",
    "    return model"
   ]
  },
  {
   "cell_type": "markdown",
   "metadata": {},
   "source": [
    "<b>Logistic Regression</b>"
   ]
  },
  {
   "cell_type": "code",
   "execution_count": 48,
   "metadata": {},
   "outputs": [
    {
     "name": "stdout",
     "output_type": "stream",
     "text": [
      "\u001b[1mWithout Feature Selection\u001b[0m\n",
      "\n",
      "C Value:  0.001\n",
      "Train accuracy: 55.37%\n",
      "Test accuracy: 50.82%\n",
      "\n",
      "C Value:  0.01\n",
      "Train accuracy: 85.54%\n",
      "Test accuracy: 78.69%\n",
      "\n",
      "C Value:  0.1\n",
      "Train accuracy: 86.36%\n",
      "Test accuracy: 81.97%\n",
      "\n",
      "C Value:  1\n",
      "Train accuracy: 87.19%\n",
      "Test accuracy: 85.25%\n",
      "\n",
      "C Value:  10\n",
      "Train accuracy: 87.60%\n",
      "Test accuracy: 81.97%\n",
      "\n",
      "C Value:  100\n",
      "Train accuracy: 88.43%\n",
      "Test accuracy: 81.97%\n",
      "\n",
      "\n",
      "\n",
      "\n",
      "\u001b[1mWith Feature Selection\u001b[0m\n",
      "\n",
      "C Value:  0.001\n",
      "Train accuracy: 55.37%\n",
      "Test accuracy: 50.82%\n",
      "\n",
      "C Value:  0.01\n",
      "Train accuracy: 80.99%\n",
      "Test accuracy: 73.77%\n",
      "\n",
      "C Value:  0.1\n",
      "Train accuracy: 85.12%\n",
      "Test accuracy: 83.61%\n",
      "\n",
      "C Value:  1\n",
      "Train accuracy: 85.54%\n",
      "Test accuracy: 85.25%\n",
      "\n",
      "C Value:  10\n",
      "Train accuracy: 85.95%\n",
      "Test accuracy: 83.61%\n",
      "\n",
      "C Value:  100\n",
      "Train accuracy: 85.54%\n",
      "Test accuracy: 81.97%\n"
     ]
    }
   ],
   "source": [
    "# Hyper-Tuning Parameters\n",
    "C_param_range = [0.001,0.01,0.1,1,10,100]\n",
    "\n",
    "print(\"\\033[1mWithout Feature Selection\\033[0m\")\n",
    "for i in C_param_range:\n",
    "    print()\n",
    "    print(\"C Value: \", i)\n",
    "    model = train_model(X_train, Y_train, X_test, Y_test, LogisticRegression, C=i, random_state=866)\n",
    "\n",
    "print(\"\\n\")\n",
    "print(\"\\n\")\n",
    "print(\"\\033[1mWith Feature Selection\\033[0m\")\n",
    "for i in C_param_range:\n",
    "    print()\n",
    "    print(\"C Value: \", i)\n",
    "    model = train_model(X_train_UFS, Y_train, X_test_UFS, Y_test, LogisticRegression, C=i, random_state=866)"
   ]
  },
  {
   "cell_type": "markdown",
   "metadata": {},
   "source": [
    "The above results shows that the Logistic Regression model performs well after feature selection. The best model can be obtained with selected features for a Regularization strength value of C = 100. So, the final model will be trained based on this parameter."
   ]
  },
  {
   "cell_type": "code",
   "execution_count": 49,
   "metadata": {},
   "outputs": [
    {
     "name": "stdout",
     "output_type": "stream",
     "text": [
      "The accuracy score achieved using Logistic Regression with complete feature set is: 81.97 %\n",
      "The accuracy score achieved using Logistic Regression [without RFE] is: 81.97 %\n",
      "The accuracy score achieved using Logistic Regression [with RFE] is: 83.61 %\n"
     ]
    }
   ],
   "source": [
    "## Final Model for Logistic Regression\n",
    "lg_model = LogisticRegression(solver=\"liblinear\", C=100, random_state=866)\n",
    "\n",
    "lg_model.fit(X_train, Y_train)\n",
    "lg_model_pred_full = lg_model.predict(X_test)\n",
    "score_lr_full = round(accuracy_score(lg_model_pred_full, Y_test)*100,2)\n",
    "print(\"The accuracy score achieved using Logistic Regression with complete feature set is: \"+str(score_lr_full)+\" %\")\n",
    "\n",
    "lg_model.fit(X_train_UFS, Y_train)\n",
    "lg_model_pred = lg_model.predict(X_test_UFS)\n",
    "score_lr = round(accuracy_score(lg_model_pred, Y_test)*100,2)\n",
    "print(\"The accuracy score achieved using Logistic Regression [without RFE] is: \"+str(score_lr)+\" %\")\n",
    "\n",
    "lg_model = RFE(lg_model, 4)\n",
    "lg_model.fit(X_train_UFS, Y_train)\n",
    "lg_model_pred = lg_model.predict(X_test_UFS)\n",
    "score_lr_rfe = round(accuracy_score(lg_model_pred, Y_test)*100,2)\n",
    "print(\"The accuracy score achieved using Logistic Regression [with RFE] is: \"+str(score_lr_rfe)+\" %\")"
   ]
  },
  {
   "cell_type": "markdown",
   "metadata": {},
   "source": [
    "<b>Gaussian Naive Bayes</b>"
   ]
  },
  {
   "cell_type": "code",
   "execution_count": 50,
   "metadata": {},
   "outputs": [
    {
     "name": "stdout",
     "output_type": "stream",
     "text": [
      "\u001b[1mWithout Feature Selection\u001b[0m\n",
      "\n",
      "Train accuracy: 72.73%\n",
      "Test accuracy: 75.41%\n",
      "\n",
      "\n",
      "\u001b[1mWith Feature Selection\u001b[0m\n",
      "\n",
      "Train accuracy: 81.82%\n",
      "Test accuracy: 80.33%\n"
     ]
    }
   ],
   "source": [
    "## Performs Well\n",
    "print(\"\\033[1mWithout Feature Selection\\033[0m\")\n",
    "print()\n",
    "model = train_model(X_train, Y_train, X_test, Y_test, GaussianNB)\n",
    "print(\"\\n\")\n",
    "print(\"\\033[1mWith Feature Selection\\033[0m\")\n",
    "print()\n",
    "model = train_model(X_train_UFS, Y_train, X_test_UFS, Y_test, GaussianNB)"
   ]
  },
  {
   "cell_type": "markdown",
   "metadata": {},
   "source": [
    "From the above results, we can observe that the model performs well after feature selection. Initially, the model shows a Train accuracy of 72.73% and Test accuracy of 75.41% which seems to be overfitting. But after feature selection, the accuracy has been increased and the model has also overcome the problem of overfitting."
   ]
  },
  {
   "cell_type": "code",
   "execution_count": 51,
   "metadata": {},
   "outputs": [
    {
     "name": "stdout",
     "output_type": "stream",
     "text": [
      "The accuracy score achieved using Gaussian NB with complete feature set is: 75.41 %\n",
      "The accuracy score achieved using Gaussian NB is: 80.33 %\n"
     ]
    }
   ],
   "source": [
    "# Gaussian NB\n",
    "gnb_model = GaussianNB()\n",
    "gnb_model.fit(X_train, Y_train)\n",
    "gnb_model_pred_full = gnb_model.predict(X_test)\n",
    "score_gnb_full = round(accuracy_score(gnb_model_pred_full, Y_test)*100,2)\n",
    "print(\"The accuracy score achieved using Gaussian NB with complete feature set is: \"+str(score_gnb_full)+\" %\")\n",
    "\n",
    "\n",
    "gnb_model.fit(X_train_UFS, Y_train)\n",
    "gnb_model_pred = gnb_model.predict(X_test_UFS)\n",
    "score_gnb = round(accuracy_score(gnb_model_pred, Y_test)*100,2)\n",
    "print(\"The accuracy score achieved using Gaussian NB is: \"+str(score_gnb)+\" %\")"
   ]
  },
  {
   "cell_type": "markdown",
   "metadata": {},
   "source": [
    "<b> KNN Classification </b>"
   ]
  },
  {
   "cell_type": "code",
   "execution_count": 52,
   "metadata": {},
   "outputs": [
    {
     "name": "stdout",
     "output_type": "stream",
     "text": [
      "Train accuracy: 88.84%\n",
      "Test accuracy: 83.61%\n"
     ]
    }
   ],
   "source": [
    "model = train_model(X_train, Y_train, X_test, Y_test, KNeighborsClassifier)"
   ]
  },
  {
   "cell_type": "markdown",
   "metadata": {},
   "source": [
    "<i>Parameters Hypertuning</i>"
   ]
  },
  {
   "cell_type": "code",
   "execution_count": 53,
   "metadata": {},
   "outputs": [],
   "source": [
    "#### Running this cell takes more than 15 minutes\n",
    "# Used for Hyper Parameter tuning\n",
    "\n",
    "\n",
    "# #List Hyperparameters that we want to tune.\n",
    "# leaf_size = list(range(1,50))\n",
    "# n_neighbors = list(range(1,30))\n",
    "# p=[1,2]\n",
    "# #Convert to dictionary\n",
    "# hyperparameters = dict(leaf_size=leaf_size, n_neighbors=n_neighbors, p=p)\n",
    "# #Create new KNN object\n",
    "# knn = KNeighborsClassifier()\n",
    "# #Use GridSearch\n",
    "# clf = GridSearchCV(knn, hyperparameters, cv=10)\n",
    "# #Fit the model\n",
    "# best_model = clf.fit(X_train,Y_train)\n",
    "# #Print The value of best Hyperparameters\n",
    "# print('Best leaf_size:', best_model.best_estimator_.get_params()['leaf_size'])\n",
    "# print('Best p:', best_model.best_estimator_.get_params()['p'])\n",
    "# print('Best n_neighbors:', best_model.best_estimator_.get_params()['n_neighbors'])"
   ]
  },
  {
   "cell_type": "code",
   "execution_count": 54,
   "metadata": {},
   "outputs": [
    {
     "name": "stdout",
     "output_type": "stream",
     "text": [
      "\u001b[1mWithout Feature Selection\u001b[0m\n",
      "\n",
      "Train accuracy: 88.84%\n",
      "Test accuracy: 75.41%\n",
      "\n",
      "\n",
      "\n",
      "\u001b[1mWith Feature Selection\u001b[0m\n",
      "\n",
      "n_neighors value =  1\n",
      "Train accuracy: 93.80%\n",
      "Test accuracy: 81.97%\n",
      "\n",
      "n_neighors value =  2\n",
      "Train accuracy: 87.60%\n",
      "Test accuracy: 81.97%\n",
      "\n",
      "n_neighors value =  3\n",
      "Train accuracy: 86.78%\n",
      "Test accuracy: 80.33%\n",
      "\n",
      "n_neighors value =  4\n",
      "Train accuracy: 85.12%\n",
      "Test accuracy: 81.97%\n",
      "\n",
      "n_neighors value =  5\n",
      "Train accuracy: 84.30%\n",
      "Test accuracy: 77.05%\n",
      "\n",
      "n_neighors value =  6\n",
      "Train accuracy: 84.71%\n",
      "Test accuracy: 86.89%\n",
      "\n",
      "n_neighors value =  7\n",
      "Train accuracy: 85.54%\n",
      "Test accuracy: 81.97%\n",
      "\n",
      "n_neighors value =  8\n",
      "Train accuracy: 85.54%\n",
      "Test accuracy: 86.89%\n",
      "\n",
      "n_neighors value =  9\n",
      "Train accuracy: 84.71%\n",
      "Test accuracy: 85.25%\n"
     ]
    }
   ],
   "source": [
    "print(\"\\033[1mWithout Feature Selection\\033[0m\")\n",
    "print()\n",
    "## For the best hyper-tuned parameters\n",
    "model = train_model(X_train, Y_train, X_test, Y_test, KNeighborsClassifier, leaf_size=1, n_neighbors=9)\n",
    "\n",
    "print(\"\\n\")\n",
    "print()\n",
    "print(\"\\033[1mWith Feature Selection\\033[0m\")\n",
    "## Feature Selected model\n",
    "for i in range(1,10):\n",
    "    print()\n",
    "    print(\"n_neighors value = \", i)\n",
    "    model = train_model(X_train_UFS, Y_train, X_test_UFS, Y_test, KNeighborsClassifier, n_neighbors=i)"
   ]
  },
  {
   "cell_type": "code",
   "execution_count": 55,
   "metadata": {},
   "outputs": [
    {
     "name": "stdout",
     "output_type": "stream",
     "text": [
      "The accuracy score achieved using KNearesrNeighbors Classifier with complete feature set is: 75.41 %\n",
      "The accuracy score achieved using KNearesrNeighbors Classifier is: 85.25 %\n"
     ]
    }
   ],
   "source": [
    "### KNN Classification\n",
    "knn_model = KNeighborsClassifier(n_neighbors=9)\n",
    "\n",
    "knn_model. fit(X_train, Y_train)\n",
    "knn_model_pred = knn_model.predict(X_test)\n",
    "score_knn_full = round(accuracy_score(knn_model_pred, Y_test)*100,2)\n",
    "print(\"The accuracy score achieved using KNearesrNeighbors Classifier with complete feature set is: \"+str(score_knn_full)+\" %\")\n",
    "\n",
    "\n",
    "\n",
    "knn_model. fit(X_train_UFS, Y_train)\n",
    "knn_model_pred = knn_model.predict(X_test_UFS)\n",
    "score_knn = round(accuracy_score(knn_model_pred, Y_test)*100,2)\n",
    "print(\"The accuracy score achieved using KNearesrNeighbors Classifier is: \"+str(score_knn)+\" %\")"
   ]
  },
  {
   "cell_type": "markdown",
   "metadata": {},
   "source": [
    "<b> Random Forest Classifier </b>"
   ]
  },
  {
   "cell_type": "code",
   "execution_count": 56,
   "metadata": {},
   "outputs": [
    {
     "name": "stdout",
     "output_type": "stream",
     "text": [
      "Without Feature Selection\n",
      "\n",
      "\n",
      "max_features =  3\n",
      "Train accuracy: 100.00%\n",
      "Test accuracy: 85.25%\n",
      "\n",
      "max_features =  5\n",
      "Train accuracy: 100.00%\n",
      "Test accuracy: 85.25%\n",
      "\n",
      "max_features =  10\n",
      "Train accuracy: 100.00%\n",
      "Test accuracy: 81.97%\n",
      "\n",
      "max_features =  15\n",
      "Train accuracy: 100.00%\n",
      "Test accuracy: 80.33%\n",
      "\n",
      "max_features =  20\n",
      "Train accuracy: 100.00%\n",
      "Test accuracy: 81.97%\n",
      "\n",
      "max_features =  25\n",
      "Train accuracy: 100.00%\n",
      "Test accuracy: 80.33%\n"
     ]
    }
   ],
   "source": [
    "## Random Forest Classifier\n",
    "#from sklearn.ensemble import RandomForestClassifier\n",
    "max_features = [3,5,10,15,20,25]\n",
    "\n",
    "# Without Feature Select\n",
    "print(\"Without Feature Selection\")\n",
    "print()\n",
    "for i in max_features:\n",
    "        print()\n",
    "        print(\"max_features = \", i)\n",
    "        model = train_model(X_train, Y_train, X_test, Y_test, RandomForestClassifier, n_estimators=500, max_features=i, random_state=866)"
   ]
  },
  {
   "cell_type": "code",
   "execution_count": 57,
   "metadata": {},
   "outputs": [
    {
     "name": "stdout",
     "output_type": "stream",
     "text": [
      "With Feature Selection\n",
      "\n",
      "\n",
      "max_features =  1\n",
      "Train accuracy: 95.45%\n",
      "Test accuracy: 83.61%\n",
      "\n",
      "max_features =  2\n",
      "Train accuracy: 95.45%\n",
      "Test accuracy: 83.61%\n",
      "\n",
      "max_features =  3\n",
      "Train accuracy: 95.45%\n",
      "Test accuracy: 83.61%\n",
      "\n",
      "max_features =  4\n",
      "Train accuracy: 95.45%\n",
      "Test accuracy: 80.33%\n",
      "\n",
      "max_features =  5\n",
      "Train accuracy: 95.45%\n",
      "Test accuracy: 78.69%\n"
     ]
    }
   ],
   "source": [
    "print(\"With Feature Selection\")\n",
    "print()\n",
    "for i in range(1,6):\n",
    "        print()\n",
    "        print(\"max_features = \", i)\n",
    "        model = train_model(X_train_UFS, Y_train, X_test_UFS, Y_test, RandomForestClassifier, n_estimators=500, max_features=i)"
   ]
  },
  {
   "cell_type": "code",
   "execution_count": 58,
   "metadata": {},
   "outputs": [
    {
     "name": "stdout",
     "output_type": "stream",
     "text": [
      "The accuracy score achieved using Random Forest Classifier with complete feature set is: 83.61 %\n",
      "The accuracy score achieved using Random Forest Classifier is: 81.97 %\n"
     ]
    }
   ],
   "source": [
    "## Random Forest\n",
    "rf_model = RandomForestClassifier(n_estimators=500, max_features=4, random_state=866)\n",
    "\n",
    "rf_model.fit(X_train, Y_train)\n",
    "rf_model_pred = rf_model.predict(X_test)\n",
    "score_rf_full = round(accuracy_score(rf_model_pred, Y_test)*100,2)\n",
    "print(\"The accuracy score achieved using Random Forest Classifier with complete feature set is: \"+str(score_rf_full)+\" %\")\n",
    "\n",
    "rf_model.fit(X_train_UFS, Y_train)\n",
    "rf_model_pred = rf_model.predict(X_test_UFS)\n",
    "score_rf = round(accuracy_score(rf_model_pred, Y_test)*100,2)\n",
    "print(\"The accuracy score achieved using Random Forest Classifier is: \"+str(score_rf)+\" %\")"
   ]
  },
  {
   "cell_type": "markdown",
   "metadata": {},
   "source": [
    "<b>Visualizing Accuracy Plots - Complete Feature Set</b>"
   ]
  },
  {
   "cell_type": "code",
   "execution_count": 59,
   "metadata": {},
   "outputs": [
    {
     "name": "stdout",
     "output_type": "stream",
     "text": [
      "The accuracy score achieved using Logistic Regression is: 81.97 %\n",
      "The accuracy score achieved using Gaussian NB is: 75.41 %\n",
      "The accuracy score achieved using KNN is: 75.41 %\n",
      "The accuracy score achieved using Random Forest is: 83.61 %\n",
      "\n"
     ]
    },
    {
     "data": {
      "image/png": "[encoded data removed]",
      "text/plain": [
       "<Figure size 576x360 with 1 Axes>"
      ]
     },
     "metadata": {},
     "output_type": "display_data"
    }
   ],
   "source": [
    "# Complete Feature Set\n",
    "scores = [score_lr_full,score_gnb_full,score_knn_full,score_rf_full]\n",
    "algorithms = [\"Logistic Regression\",\"Gaussian NB\",\"KNN\",\"Random Forest\"]    \n",
    "\n",
    "for i in range(len(algorithms)):\n",
    "    print(\"The accuracy score achieved using \"+algorithms[i]+\" is: \"+str(scores[i])+\" %\")\n",
    "    \n",
    "## Visualizing the accuracy plot\n",
    "sns.set(rc={'figure.figsize':(8,5)})\n",
    "plt.xlabel(\"Algorithms\")\n",
    "plt.ylabel(\"Accuracy score\")\n",
    "print()\n",
    "sns.barplot(algorithms,scores).set_title(\"Accuracy Plot - Complete Feature Set\");"
   ]
  },
  {
   "cell_type": "markdown",
   "metadata": {},
   "source": [
    "<b>Visualizing Accuracy Plots - Selected Features</b>"
   ]
  },
  {
   "cell_type": "code",
   "execution_count": 60,
   "metadata": {},
   "outputs": [
    {
     "name": "stdout",
     "output_type": "stream",
     "text": [
      "The accuracy score achieved using Logistic Regression is: 83.61 %\n",
      "The accuracy score achieved using Gaussian NB is: 80.33 %\n",
      "The accuracy score achieved using KNN is: 85.25 %\n",
      "The accuracy score achieved using Random Forest is: 81.97 %\n",
      "\n"
     ]
    },
    {
     "data": {
      "image/png": "[encoded data removed]",
      "text/plain": [
       "<Figure size 576x360 with 1 Axes>"
      ]
     },
     "metadata": {},
     "output_type": "display_data"
    }
   ],
   "source": [
    "# Selected Features\n",
    "scores = [score_lr_rfe,score_gnb,score_knn,score_rf]\n",
    "algorithms = [\"Logistic Regression\",\"Gaussian NB\",\"KNN\",\"Random Forest\"]    \n",
    "\n",
    "for i in range(len(algorithms)):\n",
    "    print(\"The accuracy score achieved using \"+algorithms[i]+\" is: \"+str(scores[i])+\" %\")\n",
    "\n",
    "    \n",
    "## Visualizing the accuracy plot\n",
    "sns.set(rc={'figure.figsize':(8,5)})\n",
    "plt.xlabel(\"Algorithms\")\n",
    "plt.ylabel(\"Accuracy score\")\n",
    "print()\n",
    "sns.barplot(algorithms,scores).set_title(\"Accuracy Plot - Selected Features\");"
   ]
  },
  {
   "cell_type": "markdown",
   "metadata": {},
   "source": [
    "From the above two plots, we can observe that the accuracy of the classifiers have increased considerably after selecting the features which have high importance to the target variables and removing the irrelevant features.\n",
    "\n",
    "<b>Voting Ensemble Classifier</b>"
   ]
  },
  {
   "cell_type": "code",
   "execution_count": 61,
   "metadata": {},
   "outputs": [
    {
     "name": "stdout",
     "output_type": "stream",
     "text": [
      "The accuracy of the ensemble classifier is: 83.9 %\n"
     ]
    }
   ],
   "source": [
    "from sklearn import model_selection\n",
    "from sklearn.ensemble import VotingClassifier\n",
    "kfold = model_selection.KFold(n_splits=10, random_state=866)\n",
    "estimators=[]\n",
    "estimators.append(('lr',lg_model))\n",
    "estimators.append(('gnb',gnb_model))\n",
    "estimators.append(('knn',knn_model))\n",
    "estimators.append(('rf',rf_model))\n",
    "\n",
    "ensemble = VotingClassifier(estimators)\n",
    "#print(ensemble)\n",
    "results = model_selection.cross_val_score(ensemble, X_train_UFS, Y_train, cv=kfold)\n",
    "acc_score = round(results.mean()*100,2)\n",
    "print(\"The accuracy of the ensemble classifier is:\", acc_score, \"%\")"
   ]
  }
 ],
 "metadata": {
  "kernelspec": {
   "display_name": "Python 3",
   "language": "python",
   "name": "python3"
  },
  "language_info": {
   "codemirror_mode": {
    "name": "ipython",
    "version": 3
   },
   "file_extension": ".py",
   "mimetype": "text/x-python",
   "name": "python",
   "nbconvert_exporter": "python",
   "pygments_lexer": "ipython3",
   "version": "3.7.6"
  }
 },
 "nbformat": 4,
 "nbformat_minor": 4
}
